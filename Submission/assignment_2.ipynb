{
  "cells": [
    {
      "cell_type": "code",
      "source": [
        "# Import necessary libraries\n",
        "import numpy as np\n",
        "import torch\n",
        "import torch.nn as nn\n",
        "import torch.optim as optim\n",
        "import torchvision\n",
        "import torchvision.transforms as transforms\n",
        "from torch.utils.data import DataLoader\n",
        "from sklearn.metrics import accuracy_score, precision_score, recall_score, f1_score, confusion_matrix\n",
        "import seaborn as sns\n",
        "import matplotlib.pyplot as plt"
      ],
      "metadata": {
        "id": "Vi5tjroyC384"
      },
      "execution_count": 4,
      "outputs": []
    },
    {
      "cell_type": "code",
      "source": [
        "# Set device (GPU if available, else CPU)\n",
        "device = torch.device('cuda' if torch.cuda.is_available() else 'cpu')\n",
        "\n",
        "# Modify the transform to handle grayscale images\n",
        "transform = transforms.Compose([\n",
        "    transforms.ToTensor(),\n",
        "    transforms.Normalize((0.5,), (0.5,))  # Normalize for grayscale\n",
        "])"
      ],
      "metadata": {
        "id": "B8RTAqluC3_r"
      },
      "execution_count": 17,
      "outputs": []
    },
    {
      "cell_type": "code",
      "source": [
        "# TODO: Download and load the training and test sets using torchvision.datasets\n",
        "\n",
        "train_dataset = torchvision.datasets.MNIST(root='./data', train=True, download=True, transform=transform)\n",
        "test_dataset = torchvision.datasets.MNIST(root='./data', train=False, download=True, transform=transform)\n",
        "\n",
        "train_loader = DataLoader(dataset=train_dataset, batch_size=64, shuffle=True)\n",
        "test_loader = DataLoader(dataset=test_dataset, batch_size=64, shuffle=False)\n",
        "\n"
      ],
      "metadata": {
        "id": "ji-IIg3CC4Cd"
      },
      "execution_count": 19,
      "outputs": []
    },
    {
      "cell_type": "code",
      "source": [
        "# Define the neural network model\n",
        "import torch\n",
        "import torch.nn as nn\n",
        "\n",
        "# Define the neural network model\n",
        "class ANN(nn.Module):\n",
        "    def __init__(self):\n",
        "        super(ANN, self).__init__()\n",
        "        # Define the layers\n",
        "        self.flatten = nn.Flatten()  # Flatten the input\n",
        "        # Change input features to match MNIST image size (28x28=784)\n",
        "        self.fc1 = nn.Linear(28 * 28, 128)  # Input layer (image flattened)\n",
        "        self.fc2 = nn.Linear(128, 64)           # Hidden layer\n",
        "        self.fc3 = nn.Linear(64, 10)            # Output layer (10 classes)\n",
        "        self.relu = nn.ReLU()  # ReLU activation function\n",
        "\n",
        "    def forward(self, x):\n",
        "        # Forward pass\n",
        "        x = self.flatten(x)   # Flatten the input image\n",
        "        x = self.relu(self.fc1(x))  # First hidden layer with ReLU\n",
        "        x = self.relu(self.fc2(x))  # Second hidden layer with ReLU\n",
        "        x = self.fc3(x)  # Output layer (logits)\n",
        "        return x\n",
        "\n",
        "# Example usage:\n",
        "# model = ANN()\n",
        "# print(model)"
      ],
      "metadata": {
        "id": "s0A5_uVmC4Fb"
      },
      "execution_count": 24,
      "outputs": []
    },
    {
      "cell_type": "code",
      "source": [
        "# Initialize the ANN model, loss function, and optimizer\n",
        "model_ann = ANN().to(device)\n",
        "criterion = nn.CrossEntropyLoss()\n",
        "optimizer = optim.Adam(model_ann.parameters(), lr=0.001)"
      ],
      "metadata": {
        "id": "dq5TEnbiC4IW"
      },
      "execution_count": 25,
      "outputs": []
    },
    {
      "cell_type": "code",
      "source": [
        "# Training the network\n",
        "num_epochs = 5\n",
        "ls_losses = []\n",
        "for epoch in range(num_epochs):\n",
        "    for i, (images, labels) in enumerate(train_loader):\n",
        "        # TODO: Move images and labels to the device\n",
        "        images = images.to(device)\n",
        "        labels = labels.to(device)\n",
        "        # Forward pass\n",
        "        outputs = model_ann(images)\n",
        "        loss = criterion(outputs, labels)\n",
        "        ls_losses.append(loss.item())\n",
        "        # Backward and optimize\n",
        "        optimizer.zero_grad()\n",
        "        loss.backward()\n",
        "        optimizer.step()\n",
        "\n",
        "        if (i+1) % 100 == 0:\n",
        "            print(f'Epoch [{epoch+1}/{num_epochs}], Step [{i+1}/{len(train_loader)}], Loss: {loss.item():.4f}')"
      ],
      "metadata": {
        "id": "gpxk9F8iC4LO",
        "outputId": "f068819a-de44-4ccf-813f-80daf81c0623",
        "colab": {
          "base_uri": "https://localhost:8080/"
        }
      },
      "execution_count": 26,
      "outputs": [
        {
          "output_type": "stream",
          "name": "stdout",
          "text": [
            "Epoch [1/5], Step [100/938], Loss: 0.4996\n",
            "Epoch [1/5], Step [200/938], Loss: 0.4114\n",
            "Epoch [1/5], Step [300/938], Loss: 0.5369\n",
            "Epoch [1/5], Step [400/938], Loss: 0.4435\n",
            "Epoch [1/5], Step [500/938], Loss: 0.2492\n",
            "Epoch [1/5], Step [600/938], Loss: 0.1563\n",
            "Epoch [1/5], Step [700/938], Loss: 0.2631\n",
            "Epoch [1/5], Step [800/938], Loss: 0.2788\n",
            "Epoch [1/5], Step [900/938], Loss: 0.1518\n",
            "Epoch [2/5], Step [100/938], Loss: 0.2977\n",
            "Epoch [2/5], Step [200/938], Loss: 0.2419\n",
            "Epoch [2/5], Step [300/938], Loss: 0.3225\n",
            "Epoch [2/5], Step [400/938], Loss: 0.0526\n",
            "Epoch [2/5], Step [500/938], Loss: 0.1800\n",
            "Epoch [2/5], Step [600/938], Loss: 0.0718\n",
            "Epoch [2/5], Step [700/938], Loss: 0.0934\n",
            "Epoch [2/5], Step [800/938], Loss: 0.2451\n",
            "Epoch [2/5], Step [900/938], Loss: 0.1495\n",
            "Epoch [3/5], Step [100/938], Loss: 0.1126\n",
            "Epoch [3/5], Step [200/938], Loss: 0.0560\n",
            "Epoch [3/5], Step [300/938], Loss: 0.1562\n",
            "Epoch [3/5], Step [400/938], Loss: 0.1568\n",
            "Epoch [3/5], Step [500/938], Loss: 0.0393\n",
            "Epoch [3/5], Step [600/938], Loss: 0.0790\n",
            "Epoch [3/5], Step [700/938], Loss: 0.0408\n",
            "Epoch [3/5], Step [800/938], Loss: 0.4149\n",
            "Epoch [3/5], Step [900/938], Loss: 0.0667\n",
            "Epoch [4/5], Step [100/938], Loss: 0.1396\n",
            "Epoch [4/5], Step [200/938], Loss: 0.1499\n",
            "Epoch [4/5], Step [300/938], Loss: 0.0867\n",
            "Epoch [4/5], Step [400/938], Loss: 0.1012\n",
            "Epoch [4/5], Step [500/938], Loss: 0.0413\n",
            "Epoch [4/5], Step [600/938], Loss: 0.1483\n",
            "Epoch [4/5], Step [700/938], Loss: 0.0617\n",
            "Epoch [4/5], Step [800/938], Loss: 0.0145\n",
            "Epoch [4/5], Step [900/938], Loss: 0.0888\n",
            "Epoch [5/5], Step [100/938], Loss: 0.1466\n",
            "Epoch [5/5], Step [200/938], Loss: 0.0814\n",
            "Epoch [5/5], Step [300/938], Loss: 0.0200\n",
            "Epoch [5/5], Step [400/938], Loss: 0.0778\n",
            "Epoch [5/5], Step [500/938], Loss: 0.0344\n",
            "Epoch [5/5], Step [600/938], Loss: 0.1491\n",
            "Epoch [5/5], Step [700/938], Loss: 0.1500\n",
            "Epoch [5/5], Step [800/938], Loss: 0.0716\n",
            "Epoch [5/5], Step [900/938], Loss: 0.1336\n"
          ]
        }
      ]
    },
    {
      "cell_type": "code",
      "source": [
        "# Plot Losses\n",
        "x_axis = np.arange(0, len(ls_losses), 1)\n",
        "plt.plot(x_axis, ls_losses)\n",
        "plt.xlabel = \"Sample\"\n",
        "plt.ylabel = \"Loss\""
      ],
      "metadata": {
        "id": "BS2RmxIxC4OL",
        "outputId": "7e7b1051-49c3-41b4-8f0e-a85a97ba9d98",
        "colab": {
          "base_uri": "https://localhost:8080/",
          "height": 430
        }
      },
      "execution_count": 41,
      "outputs": [
        {
          "output_type": "display_data",
          "data": {
            "text/plain": [
              "<Figure size 640x480 with 1 Axes>"
            ],
            "image/png": "[encoded data removed]"
          },
          "metadata": {}
        }
      ]
    },
    {
      "cell_type": "code",
      "source": [
        "# Test the model\n",
        "model_ann.eval()\n",
        "all_preds_ann = []\n",
        "all_labels_ann = []\n",
        "\n",
        "with torch.no_grad():\n",
        "    for images, labels in test_loader:\n",
        "\n",
        "        images = images.to(device)\n",
        "        labels = labels.to(device)\n",
        "\n",
        "        outputs = model_ann(images)\n",
        "\n",
        "        _, predicted = torch.max(outputs.data, 1)\n",
        "        all_preds_ann.extend(predicted.cpu().numpy())\n",
        "        all_labels_ann.extend(labels.cpu().numpy())\n",
        "\n",
        "accuracy_ann = accuracy_score(all_labels_ann, all_preds_ann)\n",
        "precision_ann = precision_score(all_labels_ann, all_preds_ann, average='weighted')\n",
        "recall_ann = recall_score(all_labels_ann, all_preds_ann, average='weighted')\n",
        "f1_ann = f1_score(all_labels_ann, all_preds_ann, average='weighted')\n",
        "\n",
        "\n",
        "print(f\"ANN Accuracy: {accuracy_ann:.4f}\")\n",
        "print(f\"ANN Precision: {precision_ann:.4f}\")\n",
        "print(f\"ANN Recall: {recall_ann:.4f}\")\n",
        "print(f\"ANN F1-Score: {f1_ann:.4f}\")\n"
      ],
      "metadata": {
        "id": "boltaXo4C4Q8",
        "outputId": "a1fef689-05e0-4fab-a8e3-80b112776a80",
        "colab": {
          "base_uri": "https://localhost:8080/"
        }
      },
      "execution_count": 39,
      "outputs": [
        {
          "output_type": "stream",
          "name": "stdout",
          "text": [
            "ANN Accuracy: 0.9678\n",
            "ANN Precision: 0.9682\n",
            "ANN Recall: 0.9678\n",
            "ANN F1-Score: 0.9678\n"
          ]
        }
      ]
    },
    {
      "cell_type": "code",
      "source": [
        "import torch\n",
        "import torch.nn as nn\n",
        "import torch.nn.functional as F\n",
        "\n",
        "class CNN(nn.Module):\n",
        "    def __init__(self):\n",
        "        super(CNN, self).__init__()\n",
        "        # Define the CNN layers (Conv2D, MaxPool, Fully Connected)\n",
        "        # Change the input channel of conv1 to 1 to match the input image\n",
        "        self.conv1 = nn.Conv2d(1, 32, kernel_size=3, padding=1)  # Input: 1 channel (grayscale), 32 filters\n",
        "        self.pool = nn.MaxPool2d(2, 2)  # MaxPool with kernel size 2x2 and stride 2\n",
        "        self.conv2 = nn.Conv2d(32, 64, kernel_size=3, padding=1)  # 64 filters\n",
        "\n",
        "        # Assuming input images are 32x32 (like CIFAR-10 dataset)\n",
        "        #Adjust the fc1 layer to match the reduced image dimenstions\n",
        "        self.fc1 = nn.Linear(64 * 7 * 7, 128)  # Flattened input: 64 channels * 8x8 feature maps\n",
        "        self.fc2 = nn.Linear(128, 10)  # Output layer for 10 classes\n",
        "\n",
        "    def forward(self, x):\n",
        "        # Apply the first conv layer, ReLU, and max-pooling\n",
        "        x = self.pool(F.relu(self.conv1(x)))\n",
        "\n",
        "        # Apply the second conv layer, ReLU, and max-pooling\n",
        "        x = self.pool(F.relu(self.conv2(x)))\n",
        "\n",
        "        # Flatten the tensor for the fully connected layer\n",
        "        #Adjust the view function to match the reduced image dimenstions\n",
        "        x = x.view(-1, 64 * 7 * 7)\n",
        "\n",
        "        # Apply the first fully connected layer with ReLU activation\n",
        "        x = F.relu(self.fc1(x))\n",
        "\n",
        "        # Apply the output layer (logits for 10 classes)\n",
        "        x = self.fc2(x)\n",
        "        return x"
      ],
      "metadata": {
        "id": "yJjoyfKqC4T9"
      },
      "execution_count": 34,
      "outputs": []
    },
    {
      "cell_type": "code",
      "source": [
        "# Initialize the CNN model, loss function, and optimizer\n",
        "model_cnn = CNN().to(device)  # Assuming CNN() is your defined CNN model\n",
        "criterion = nn.CrossEntropyLoss()  # Loss function for classification\n",
        "optimizer = torch.optim.Adam(model_cnn.parameters(), lr=0.001)  # Optimizer\n",
        "\n",
        "# Training loop\n",
        "num_epochs = 5\n",
        "for epoch in range(num_epochs):\n",
        "    for i, (images, labels) in enumerate(train_loader):\n",
        "        # Move images and labels to the device (GPU or CPU)\n",
        "        images = images.to(device)\n",
        "        labels = labels.to(device)\n",
        "\n",
        "        # Forward pass through the CNN\n",
        "        outputs = model_cnn(images)\n",
        "\n",
        "        # Calculate the loss\n",
        "        loss = criterion(outputs, labels)\n",
        "\n",
        "        # Backward pass and optimization\n",
        "        optimizer.zero_grad()  # Clear gradients\n",
        "        loss.backward()  # Compute gradients\n",
        "        optimizer.step()  # Update model parameters\n",
        "\n",
        "        # Print progress every 100 steps\n",
        "        if (i + 1) % 100 == 0:\n",
        "            print(f'Epoch [{epoch+1}/{num_epochs}], Step [{i+1}/{len(train_loader)}], Loss: {loss.item():.4f}')\n"
      ],
      "metadata": {
        "id": "oEdLnaN7C4W0",
        "outputId": "cde01ba4-ee73-42ab-d120-bf737b9ee965",
        "colab": {
          "base_uri": "https://localhost:8080/"
        }
      },
      "execution_count": 35,
      "outputs": [
        {
          "output_type": "stream",
          "name": "stdout",
          "text": [
            "Epoch [1/5], Step [100/938], Loss: 0.3406\n",
            "Epoch [1/5], Step [200/938], Loss: 0.1197\n",
            "Epoch [1/5], Step [300/938], Loss: 0.0587\n",
            "Epoch [1/5], Step [400/938], Loss: 0.0744\n",
            "Epoch [1/5], Step [500/938], Loss: 0.0771\n",
            "Epoch [1/5], Step [600/938], Loss: 0.0085\n",
            "Epoch [1/5], Step [700/938], Loss: 0.2392\n",
            "Epoch [1/5], Step [800/938], Loss: 0.0496\n",
            "Epoch [1/5], Step [900/938], Loss: 0.0513\n",
            "Epoch [2/5], Step [100/938], Loss: 0.0135\n",
            "Epoch [2/5], Step [200/938], Loss: 0.0203\n",
            "Epoch [2/5], Step [300/938], Loss: 0.0114\n",
            "Epoch [2/5], Step [400/938], Loss: 0.0276\n",
            "Epoch [2/5], Step [500/938], Loss: 0.0212\n",
            "Epoch [2/5], Step [600/938], Loss: 0.0305\n",
            "Epoch [2/5], Step [700/938], Loss: 0.0310\n",
            "Epoch [2/5], Step [800/938], Loss: 0.1066\n",
            "Epoch [2/5], Step [900/938], Loss: 0.1076\n",
            "Epoch [3/5], Step [100/938], Loss: 0.0439\n",
            "Epoch [3/5], Step [200/938], Loss: 0.0437\n",
            "Epoch [3/5], Step [300/938], Loss: 0.0052\n",
            "Epoch [3/5], Step [400/938], Loss: 0.0105\n",
            "Epoch [3/5], Step [500/938], Loss: 0.0052\n",
            "Epoch [3/5], Step [600/938], Loss: 0.0359\n",
            "Epoch [3/5], Step [700/938], Loss: 0.0102\n",
            "Epoch [3/5], Step [800/938], Loss: 0.0109\n",
            "Epoch [3/5], Step [900/938], Loss: 0.0023\n",
            "Epoch [4/5], Step [100/938], Loss: 0.0038\n",
            "Epoch [4/5], Step [200/938], Loss: 0.0018\n",
            "Epoch [4/5], Step [300/938], Loss: 0.0095\n",
            "Epoch [4/5], Step [400/938], Loss: 0.0087\n",
            "Epoch [4/5], Step [500/938], Loss: 0.0140\n",
            "Epoch [4/5], Step [600/938], Loss: 0.0022\n",
            "Epoch [4/5], Step [700/938], Loss: 0.0103\n",
            "Epoch [4/5], Step [800/938], Loss: 0.0101\n",
            "Epoch [4/5], Step [900/938], Loss: 0.0232\n",
            "Epoch [5/5], Step [100/938], Loss: 0.0039\n",
            "Epoch [5/5], Step [200/938], Loss: 0.0146\n",
            "Epoch [5/5], Step [300/938], Loss: 0.0695\n",
            "Epoch [5/5], Step [400/938], Loss: 0.0117\n",
            "Epoch [5/5], Step [500/938], Loss: 0.0183\n",
            "Epoch [5/5], Step [600/938], Loss: 0.0288\n",
            "Epoch [5/5], Step [700/938], Loss: 0.0025\n",
            "Epoch [5/5], Step [800/938], Loss: 0.0031\n",
            "Epoch [5/5], Step [900/938], Loss: 0.0102\n"
          ]
        }
      ]
    },
    {
      "cell_type": "code",
      "source": [
        "from sklearn.metrics import accuracy_score, precision_score, recall_score, f1_score\n",
        "\n",
        "# Set the model to evaluation mode\n",
        "model_cnn.eval()\n",
        "all_preds_cnn = []\n",
        "all_labels_cnn = []\n",
        "\n",
        "with torch.no_grad():  # Disable gradient computation for testing\n",
        "    for images, labels in test_loader:\n",
        "        # Move images and labels to the device\n",
        "        images = images.to(device)\n",
        "        labels = labels.to(device)\n",
        "\n",
        "        # Forward pass through the CNN\n",
        "        outputs = model_cnn(images)\n",
        "        _, predicted = torch.max(outputs.data, 1)  # Get the predicted class\n",
        "\n",
        "        # Store predictions and true labels\n",
        "        all_preds_cnn.extend(predicted.cpu().numpy())\n",
        "        all_labels_cnn.extend(labels.cpu().numpy())\n",
        "\n",
        "# Calculate accuracy, precision, recall, and F1-score\n",
        "accuracy_cnn = accuracy_score(all_labels_cnn, all_preds_cnn)\n",
        "precision_cnn = precision_score(all_labels_cnn, all_preds_cnn, average='weighted')\n",
        "recall_cnn = recall_score(all_labels_cnn, all_preds_cnn, average='weighted')\n",
        "f1_cnn = f1_score(all_labels_cnn, all_preds_cnn, average='weighted')\n",
        "\n",
        "# Print metrics\n",
        "print(f\"CNN Accuracy: {accuracy_cnn:.4f}\")\n",
        "print(f\"CNN Precision: {precision_cnn:.4f}\")\n",
        "print(f\"CNN Recall: {recall_cnn:.4f}\")\n",
        "print(f\"CNN F1-Score: {f1_cnn:.4f}\")\n"
      ],
      "metadata": {
        "id": "6lpvqf6lC4Zn",
        "outputId": "91796e57-039e-4da0-d336-52a658dcf623",
        "colab": {
          "base_uri": "https://localhost:8080/"
        }
      },
      "execution_count": 36,
      "outputs": [
        {
          "output_type": "stream",
          "name": "stdout",
          "text": [
            "CNN Accuracy: 0.9874\n",
            "CNN Precision: 0.9875\n",
            "CNN Recall: 0.9874\n",
            "CNN F1-Score: 0.9874\n"
          ]
        }
      ]
    },
    {
      "cell_type": "code",
      "source": [
        "import pandas as pd\n",
        "\n",
        "# TODO: Create a comparison table\n",
        "data = {\n",
        "    'Model': ['ANN', 'CNN'],\n",
        "    'Accuracy': [accuracy_ann, accuracy_cnn],\n",
        "    'Precision': [precision_ann, precision_cnn],\n",
        "    'Recall': [recall_ann, recall_cnn],\n",
        "    'F1-Score': [f1_ann, f1_cnn]\n",
        "}\n",
        "\n",
        "df_comparison = pd.DataFrame(data)\n",
        "print(df_comparison)"
      ],
      "metadata": {
        "id": "tQEHuXi4GiEJ",
        "outputId": "c6e6e9fe-66ef-49cf-bef7-87953c3c0913",
        "colab": {
          "base_uri": "https://localhost:8080/"
        }
      },
      "execution_count": 40,
      "outputs": [
        {
          "output_type": "stream",
          "name": "stdout",
          "text": [
            "  Model  Accuracy  Precision  Recall  F1-Score\n",
            "0   ANN    0.9678   0.968176  0.9678  0.967820\n",
            "1   CNN    0.9874   0.987482  0.9874  0.987395\n"
          ]
        }
      ]
    }
  ],
  "metadata": {
    "colab": {
      "name": "Welcome To Colab",
      "toc_visible": true,
      "provenance": [],
      "gpuType": "T4"
    },
    "kernelspec": {
      "display_name": "Python 3",
      "name": "python3"
    },
    "accelerator": "GPU"
  },
  "nbformat": 4,
  "nbformat_minor": 0
}